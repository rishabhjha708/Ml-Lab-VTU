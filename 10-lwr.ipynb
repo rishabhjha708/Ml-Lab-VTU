{
 "cells": [
  {
   "cell_type": "code",
   "execution_count": 14,
   "metadata": {},
   "outputs": [
    {
     "data": {
      "text/plain": [
       "array([ 3. ,  4. ,  5. ,  6. ,  7. ,  8. ,  9. , 10. , 11. , 12. , 13. ,\n",
       "       14. , 15. , 16. , 17. , 18. , 19. , 20. , 21. , 22. , 23. , 24. ,\n",
       "       25. , 26. , 27. , 28. , 29. , 30. , 31. , 32. ,  3.2,  4.2])"
      ]
     },
     "execution_count": 14,
     "metadata": {},
     "output_type": "execute_result"
    }
   ],
   "source": [
    "import pandas as pd\n",
    "import numpy as np\n",
    "from sklearn.model_selection import train_test_split\n",
    "import matplotlib.pyplot as plt\n",
    "tou=0.8\n",
    "X_train=np.array(list(range(3,33))+[3.2,4.2])\n",
    "X_train"
   ]
  },
  {
   "cell_type": "code",
   "execution_count": 15,
   "metadata": {},
   "outputs": [
    {
     "data": {
      "text/plain": [
       "array([[ 3. ],\n",
       "       [ 4. ],\n",
       "       [ 5. ],\n",
       "       [ 6. ],\n",
       "       [ 7. ],\n",
       "       [ 8. ],\n",
       "       [ 9. ],\n",
       "       [10. ],\n",
       "       [11. ],\n",
       "       [12. ],\n",
       "       [13. ],\n",
       "       [14. ],\n",
       "       [15. ],\n",
       "       [16. ],\n",
       "       [17. ],\n",
       "       [18. ],\n",
       "       [19. ],\n",
       "       [20. ],\n",
       "       [21. ],\n",
       "       [22. ],\n",
       "       [23. ],\n",
       "       [24. ],\n",
       "       [25. ],\n",
       "       [26. ],\n",
       "       [27. ],\n",
       "       [28. ],\n",
       "       [29. ],\n",
       "       [30. ],\n",
       "       [31. ],\n",
       "       [32. ],\n",
       "       [ 3.2],\n",
       "       [ 4.2]])"
      ]
     },
     "execution_count": 15,
     "metadata": {},
     "output_type": "execute_result"
    }
   ],
   "source": [
    "X_train=X_train[:,np.newaxis]\n",
    "#print(len(X_train))\n",
    "X_train"
   ]
  },
  {
   "cell_type": "code",
   "execution_count": 16,
   "metadata": {},
   "outputs": [
    {
     "name": "stdout",
     "output_type": "stream",
     "text": [
      "32\n"
     ]
    }
   ],
   "source": [
    "y_train=np.array([1,2,1,2,1,1,3,4,5,4,5,6,5,6,7,8,9,10,11,11,12,11,11,12,13,16,17,19,18,34,21,22])\n",
    "\n",
    "print(len(y_train))\n",
    "X_test=np.array([i/10. for i in range(400)])\n",
    "X_test=X_test[:,np.newaxis]\n",
    "y_test=[]"
   ]
  },
  {
   "cell_type": "code",
   "execution_count": 17,
   "metadata": {},
   "outputs": [
    {
     "data": {
      "image/png": "[encoded data removed]",
      "text/plain": [
       "<Figure size 432x288 with 1 Axes>"
      ]
     },
     "metadata": {
      "needs_background": "light"
     },
     "output_type": "display_data"
    },
    {
     "data": {
      "text/plain": [
       "array([ 0.        ,  0.2845969 ,  0.5725125 ,  0.86357667,  1.15759705,\n",
       "        1.45435693,  1.75361314,  2.05509367,  2.35849523,  2.66348064,\n",
       "        2.96967608,  3.27666827,  3.58400147,  3.89117446,  4.19763739,\n",
       "        4.50278866,  4.80597175,  5.1064721 ,  5.40351407,  5.69625809,\n",
       "        5.98379794,  6.26515846,  6.53929352,  6.80508468,  7.06134041,\n",
       "        7.30679619,  7.5401158 ,  7.75989381,  7.96465983,  8.15288483,\n",
       "        8.32298982,  8.47335765,  8.60234831,  8.70831828,  8.7896448 ,\n",
       "        8.84475529,  8.87216269,  8.87050684,  8.83860199,  8.77548995,\n",
       "        8.68049796,  8.55329942,  8.39397525,  8.2030721 ,  7.98165348,\n",
       "        7.73133878,  7.45432483,  7.15338518,  6.83184248,  6.49351164,\n",
       "        6.14261286,  5.7836571 ,  5.42130916,  5.06023635,  4.70495293,\n",
       "        4.35967157,  4.02817259,  3.71370031,  3.41889307,  3.14574977,\n",
       "        2.89563261,  2.66930206,  2.46697776,  2.28841767,  2.13300725,\n",
       "        1.99985095,  1.88785951,  1.7958282 ,  1.7225026 ,  1.6666305 ,\n",
       "        1.62699956,  1.60246164,  1.59194543,  1.59445951,  1.60908793,\n",
       "        1.63498081,  1.6713418 ,  1.71741436,  1.77246825,  1.83578738,\n",
       "        1.90665981,  1.98437037,  2.06819598,  2.15740378,  2.2512516 ,\n",
       "        2.34899063,  2.44986966,  2.55314046,  2.65806384,  2.76391594,\n",
       "        2.86999446,  2.97562446,  3.08016368,  3.18300724,  3.28359179,\n",
       "        3.38139922,  3.47595991,  3.56685591,  3.65372395,  3.73625858,\n",
       "        3.81421524,  3.88741354,  3.95574031,  4.01915247,  4.07767931,\n",
       "        4.13142399,  4.18056381,  4.22534896,  4.26609955,  4.3032005 ,\n",
       "        4.33709436,  4.36827188,  4.3972606 ,  4.42461152,  4.4508844 ,\n",
       "        4.47663211,  4.50238453,  4.52863275,  4.55581426,  4.58429957,\n",
       "        4.61438113,  4.6462649 ,  4.68006501,  4.71580187,  4.75340375,\n",
       "        4.79271197,  4.83348935,  4.87543173,  4.91818219,  4.96134716,\n",
       "        5.00451411,  5.04726992,  5.08921917,  5.13000188,  5.16930963,\n",
       "        5.20689976,  5.24260685,  5.27635113,  5.3081435 ,  5.33808691,\n",
       "        5.3663742 ,  5.39328233,  5.41916351,  5.4444335 ,  5.46955768,\n",
       "        5.49503549,  5.52138402,  5.54912132,  5.57875028,  5.61074374,\n",
       "        5.64553117,  5.68348778,  5.724926  ,  5.77008979,  5.81915169,\n",
       "        5.87221264,  5.92930422,  5.99039311,  6.05538733,  6.12414385,\n",
       "        6.19647713,  6.27216804,  6.35097292,  6.43263226,  6.51687874,\n",
       "        6.60344443,  6.69206697,  6.78249463,  6.87449018,  6.96783378,\n",
       "        7.06232466,  7.15778205,  7.25404515,  7.35097259,  7.44844118,\n",
       "        7.54634448,  7.64459086,  7.74310154,  7.84180845,  7.9406521 ,\n",
       "        8.03957935,  8.13854139,  8.23749164,  8.3363838 ,  8.43516998,\n",
       "        8.53379897,  8.63221457,  8.73035412,  8.82814723,  8.92551466,\n",
       "        9.0223675 ,  9.11860665,  9.21412269,  9.30879609,  9.40249789,\n",
       "        9.49509092,  9.58643141,  9.67637111,  9.76475982,  9.85144831,\n",
       "        9.93629139, 10.01915119, 10.09990028, 10.17842457, 10.2546258 ,\n",
       "       10.32842337, 10.39975534, 10.46857857, 10.5348678 , 10.59861367,\n",
       "       10.65981985, 10.71849918, 10.77466929, 10.82834777, 10.87954726,\n",
       "       10.92827095, 10.9745087 , 11.01823424, 11.05940376, 11.09795612,\n",
       "       11.13381486, 11.16689204, 11.19709386, 11.22432784, 11.24851126,\n",
       "       11.26958043, 11.2875003 , 11.30227392, 11.31395114, 11.32263601,\n",
       "       11.3284926 , 11.33174854, 11.33269639, 11.33169248, 11.32915322,\n",
       "       11.32554924, 11.32139739, 11.3172511 , 11.31368956, 11.31130618,\n",
       "       11.31069688, 11.31244868, 11.31712913, 11.32527699, 11.33739435,\n",
       "       11.35394061, 11.3753283 , 11.40192087, 11.4340322 , 11.47192784,\n",
       "       11.51582759, 11.56590914, 11.6223124 , 11.68514412, 11.75448239,\n",
       "       11.83038069, 11.91287113, 12.0019666 , 12.09766172, 12.19993244,\n",
       "       12.30873428, 12.4239995 , 12.54563319, 12.67350878, 12.80746329,\n",
       "       12.94729272, 13.09274818, 13.24353296, 13.39930117, 13.55965817,\n",
       "       13.72416302, 13.8923331 , 14.06365079, 14.23757231, 14.41353818,\n",
       "       14.59098523, 14.7693596 , 14.94813048, 15.12680395, 15.30493685,\n",
       "       15.48215014, 15.65814157, 15.83269766, 16.00570466, 16.17715868,\n",
       "       16.34717481, 16.51599522, 16.68399608, 16.85169302, 17.01974472,\n",
       "       17.18895407, 17.36026621, 17.53476257, 17.7136503 , 17.89824607,\n",
       "       18.08995395, 18.29023704, 18.50058292, 18.72246382, 18.95729245,\n",
       "       19.2063753 , 19.47086554, 19.75171785, 20.04964773, 20.36509769,\n",
       "       20.69821235, 21.0488241 , 21.41645016, 21.80030121, 22.19930111,\n",
       "       22.61211636, 23.03719359, 23.47280289, 23.91708469, 24.36809778,\n",
       "       24.82386637, 25.28242426, 25.74185474, 26.20032504, 26.65611476,\n",
       "       27.10763799, 27.55345932, 27.99230392, 28.4230624 , 28.84479103,\n",
       "       29.25670813, 29.65818734, 30.04874857, 30.42804712, 30.79586189,\n",
       "       31.15208282, 31.49669832, 31.82978277, 32.15148456, 32.46201472,\n",
       "       32.76163636, 33.05065497, 33.32940963, 33.59826509, 33.85760485,\n",
       "       34.10782501, 34.34932894, 34.58252278, 34.80781157, 35.02559602,\n",
       "       35.23626984, 35.44021762, 35.63781308, 35.82941777, 36.01538009,\n",
       "       36.19603454, 36.37170134, 36.54268614, 36.70927994, 36.87175921,\n",
       "       37.03038605, 37.18540849, 37.33706083, 37.48556412, 37.63112655,\n",
       "       37.77394402, 37.91420059, 38.05206907, 38.18771152, 38.3212798 ,\n",
       "       38.45291608, 38.58275338, 38.71091606, 38.83752032, 38.96267468,\n",
       "       39.08648042, 39.20903201, 39.33041756, 39.45071918, 39.57001338,\n",
       "       39.68837143, 39.80585968, 39.92253989, 40.03846954, 40.1537021 ,\n",
       "       40.26828731, 40.3822714 , 40.49569739, 40.60860524, 40.7210321 ,\n",
       "       40.83301249, 40.94457847, 41.05575985, 41.16658429, 41.27707751,\n",
       "       41.38726336, 41.49716402, 41.60680005, 41.71619057, 41.82535331,\n",
       "       41.93430472, 42.0430601 , 42.15163361, 42.26003843, 42.36828676])"
      ]
     },
     "execution_count": 17,
     "metadata": {},
     "output_type": "execute_result"
    }
   ],
   "source": [
    "count=0\n",
    "for r in range(len(X_test)):\n",
    "    try:\n",
    "        wt=np.exp(-np.sum((X_train-X_test[r])**2,axis=1)/(2*tou)**2)\n",
    "        w=np.diag(wt)\n",
    "        fact1=np.linalg.inv(X_train.T.dot(w).dot(X_train))\n",
    "        parameter=fact1.dot(X_train.T).dot(w).dot(y_train)\n",
    "        prediction=X_test[r].dot(parameter)\n",
    "        y_test.append(prediction)\n",
    "        count=count+1\n",
    "    except:\n",
    "        pass\n",
    "y_test=np.array(y_test)\n",
    "plt.plot(X_train.squeeze(),y_train,'o')\n",
    "plt.plot(X_test.squeeze(),y_test,'*')\n",
    "plt.show()\n",
    "y_test"
   ]
  },
  {
   "cell_type": "code",
   "execution_count": null,
   "metadata": {},
   "outputs": [],
   "source": []
  }
 ],
 "metadata": {
  "kernelspec": {
   "display_name": "Python 3",
   "language": "python",
   "name": "python3"
  },
  "language_info": {
   "codemirror_mode": {
    "name": "ipython",
    "version": 3
   },
   "file_extension": ".py",
   "mimetype": "text/x-python",
   "name": "python",
   "nbconvert_exporter": "python",
   "pygments_lexer": "ipython3",
   "version": "3.7.4"
  }
 },
 "nbformat": 4,
 "nbformat_minor": 2
}
