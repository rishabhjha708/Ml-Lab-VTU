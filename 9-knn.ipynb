{
 "cells": [
  {
   "cell_type": "code",
   "execution_count": 13,
   "metadata": {},
   "outputs": [
    {
     "name": "stdout",
     "output_type": "stream",
     "text": [
      "K-Nearest Neighbour Accuracy :  0.9333333333333333\n",
      "Confusion Matrix : \n",
      " [[19  0  0]\n",
      " [ 0 16  0]\n",
      " [ 0  4 21]]\n"
     ]
    }
   ],
   "source": [
    "from sklearn import datasets, metrics\n",
    "from sklearn.neighbors import KNeighborsClassifier\n",
    "from sklearn.model_selection import train_test_split\n",
    "\n",
    "import pandas as pd\n",
    "import numpy as np\n",
    "\n",
    "dataset = datasets.load_iris()\n",
    "X = pd.DataFrame(dataset.data)\n",
    "y = pd.DataFrame(dataset.target)\n",
    "\n",
    "X_train, X_test, y_train, y_test = train_test_split(X, y, test_size=0.4)\n",
    "\n",
    "knn = KNeighborsClassifier(n_neighbors=5)\n",
    "knn.fit(X_train, y_train.values.ravel())\n",
    "y_prediction = knn.predict(X_test)\n",
    "\n",
    "print('K-Nearest Neighbour Accuracy : ', metrics.accuracy_score(y_test, y_prediction))\n",
    "print(\"Confusion Matrix : \\n\", metrics.confusion_matrix(y_test, y_prediction))\n",
    "\n",
    "\n"
   ]
  },
  {
   "cell_type": "code",
   "execution_count": 17,
   "metadata": {},
   "outputs": [
    {
     "name": "stdout",
     "output_type": "stream",
     "text": [
      "[1 2 0 2 0 2 1 0 0 2 1 0 2 1 0 1 2 0 2 1 0 1 1 0 1 2 2 0 1 2 2 0 0 2 1 1 1\n",
      " 0 0 2 1 2 1 2 0 2 2 1 2 1 1 1 1 2 0 0 0 0 2 2]\n"
     ]
    }
   ],
   "source": [
    "print(y_prediction)"
   ]
  },
  {
   "cell_type": "code",
   "execution_count": 19,
   "metadata": {},
   "outputs": [
    {
     "name": "stdout",
     "output_type": "stream",
     "text": [
      "     0\n",
      "73   1\n",
      "129  2\n",
      "24   0\n",
      "148  2\n",
      "41   0\n",
      "118  2\n",
      "51   1\n",
      "39   0\n",
      "46   0\n",
      "145  2\n",
      "61   1\n",
      "31   0\n",
      "123  2\n",
      "95   1\n",
      "30   0\n",
      "66   1\n",
      "144  2\n",
      "18   0\n",
      "135  2\n",
      "63   1\n",
      "32   0\n",
      "126  2\n",
      "69   1\n",
      "45   0\n",
      "53   1\n",
      "134  2\n",
      "132  2\n",
      "5    0\n",
      "106  2\n",
      "143  2\n",
      "147  2\n",
      "0    0\n",
      "16   0\n",
      "110  2\n",
      "138  2\n",
      "91   1\n",
      "90   1\n",
      "27   0\n",
      "4    0\n",
      "146  2\n",
      "82   1\n",
      "102  2\n",
      "93   1\n",
      "114  2\n",
      "28   0\n",
      "136  2\n",
      "124  2\n",
      "56   1\n",
      "149  2\n",
      "64   1\n",
      "119  2\n",
      "75   1\n",
      "85   1\n",
      "108  2\n",
      "8    0\n",
      "11   0\n",
      "14   0\n",
      "29   0\n",
      "116  2\n",
      "120  2\n"
     ]
    }
   ],
   "source": [
    "print(y_test)\n"
   ]
  },
  {
   "cell_type": "code",
   "execution_count": null,
   "metadata": {},
   "outputs": [],
   "source": []
  }
 ],
 "metadata": {
  "kernelspec": {
   "display_name": "Python 3",
   "language": "python",
   "name": "python3"
  },
  "language_info": {
   "codemirror_mode": {
    "name": "ipython",
    "version": 3
   },
   "file_extension": ".py",
   "mimetype": "text/x-python",
   "name": "python",
   "nbconvert_exporter": "python",
   "pygments_lexer": "ipython3",
   "version": "3.7.4"
  }
 },
 "nbformat": 4,
 "nbformat_minor": 2
}
