{
 "cells": [
  {
   "cell_type": "code",
   "execution_count": 98,
   "metadata": {},
   "outputs": [],
   "source": [
    "import csv"
   ]
  },
  {
   "cell_type": "code",
   "execution_count": 97,
   "metadata": {},
   "outputs": [],
   "source": [
    "def get_domains(data):\n",
    "    d=[set() for i in data[0]]\n",
    "    for x in data:\n",
    "        for i,value in enumerate(x):\n",
    "            d[i].add(value)\n",
    "    return list(sorted(x) for x in d)"
   ]
  },
  {
   "cell_type": "code",
   "execution_count": 99,
   "metadata": {},
   "outputs": [],
   "source": [
    "def consistent(hypothesis, sample):\n",
    "    more_general_parts = []\n",
    "    for x, y in zip(hypothesis, sample):\n",
    "        mg = x == \"?\" or (x != \"0\" and (x == y or y == \"0\"))\n",
    "        more_general_parts.append(mg)\n",
    "    return all(more_general_parts)"
   ]
  },
  {
   "cell_type": "code",
   "execution_count": 100,
   "metadata": {},
   "outputs": [],
   "source": [
    "def min_generalization(hypothesis, sample):\n",
    "    new_hypothesis = list(hypothesis)\n",
    "    for i, key in enumerate(hypothesis):\n",
    "        if not consistent(hypothesis[i], sample[i]):\n",
    "            new_hypothesis[i] = '?' if hypothesis[i] != '0' else sample[i]\n",
    "    return [tuple(new_hypothesis)]\n",
    "    "
   ]
  },
  {
   "cell_type": "code",
   "execution_count": 101,
   "metadata": {},
   "outputs": [],
   "source": [
    "def min_specialization(hypothesis, sample, domain):\n",
    "    hypothesis = list(hypothesis)\n",
    "    results = []\n",
    "    for i, key in enumerate(hypothesis):\n",
    "        if hypothesis[i] == '?':\n",
    "            for val in domain[i]:\n",
    "                if sample[i] != val:\n",
    "                    new_hypothesis = hypothesis.copy()\n",
    "                    new_hypothesis[i] = val\n",
    "                    results.append(tuple(new_hypothesis))\n",
    "        elif hypothesis[i] == '0':\n",
    "            new_hypothesis = hypothesis.copy()\n",
    "            new_hypothesis[i] = '0'\n",
    "            results.append(tuple(new_hypothesis))\n",
    "    return results\n",
    "            "
   ]
  },
  {
   "cell_type": "code",
   "execution_count": 103,
   "metadata": {},
   "outputs": [
    {
     "name": "stdout",
     "output_type": "stream",
     "text": [
      "[['Sunny', 'Warm', 'Normal', 'Strong', 'Warm', 'Same', 'Yes'], ['Sunny', 'Warm', 'High', 'Strong', 'Warm', 'Same', 'Yes'], ['Rainy', 'Cold', 'High', 'Strong', 'Warm', 'Change', 'No'], ['Sunny', 'Warm', 'High', 'Strong', 'Cool', 'Change', 'Yes']]\n"
     ]
    }
   ],
   "source": [
    "dataset=[]\n",
    "with open('trainingdata.csv') as csvfile:\n",
    "    lines=csv.reader(csvfile)\n",
    "    for rows in list(lines)[1:]:\n",
    "        dataset.append(rows)\n",
    "print(dataset)"
   ]
  },
  {
   "cell_type": "code",
   "execution_count": 104,
   "metadata": {},
   "outputs": [
    {
     "name": "stdout",
     "output_type": "stream",
     "text": [
      "[['Rainy', 'Sunny'], ['Cold', 'Warm'], ['High', 'Normal'], ['Strong'], ['Cool', 'Warm'], ['Change', 'Same']]\n"
     ]
    }
   ],
   "source": [
    "domains=get_domains(dataset)\n",
    "domains=domains[:-1]\n",
    "print(domains)"
   ]
  },
  {
   "cell_type": "code",
   "execution_count": 105,
   "metadata": {},
   "outputs": [
    {
     "name": "stdout",
     "output_type": "stream",
     "text": [
      "{('?', '?', '?', '?', '?', '?')} {('0', '0', '0', '0', '0', '0')}\n"
     ]
    }
   ],
   "source": [
    "G={(\"?\",)*len(domains)}\n",
    "S={('0',)*len(domains)}\n",
    "print(G,S)"
   ]
  },
  {
   "cell_type": "code",
   "execution_count": 106,
   "metadata": {},
   "outputs": [
    {
     "name": "stdout",
     "output_type": "stream",
     "text": [
      "\n",
      " G[1]: {('?', '?', '?', '?', '?', '?')}\n",
      "\n",
      " S[1]: {('Sunny', 'Warm', 'Normal', 'Strong', 'Warm', 'Same')}\n",
      "\n",
      " G[2]: {('?', '?', '?', '?', '?', '?')}\n",
      "\n",
      " S[2]: {('Sunny', 'Warm', '?', 'Strong', 'Warm', 'Same')}\n",
      "\n",
      " G[3]: {('Sunny', '?', '?', '?', '?', '?'), ('?', 'Warm', '?', '?', '?', '?'), ('?', '?', '?', '?', '?', 'Same')}\n",
      "\n",
      " S[3]: {('Sunny', 'Warm', '?', 'Strong', 'Warm', 'Same')}\n",
      "\n",
      " G[4]: {('Sunny', '?', '?', '?', '?', '?'), ('?', 'Warm', '?', '?', '?', '?')}\n",
      "\n",
      " S[4]: {('Sunny', 'Warm', '?', 'Strong', '?', '?')}\n"
     ]
    }
   ],
   "source": [
    "k=0\n",
    "for i in dataset:\n",
    "    k += 1\n",
    "    attributes, output = i[:-1], i[-1]\n",
    "    if output == 'Yes':\n",
    "        G = {g for g in G if consistent(g, attributes)}\n",
    "        for s in list(S):\n",
    "            if not consistent(s, attributes):\n",
    "                S.remove(s)\n",
    "                s_plus = min_generalization(s, attributes)\n",
    "                S.update([h for h in s_plus if any([consistent(g, h) for g in G])])\n",
    "    else:\n",
    "        S = {s for s in S if not consistent(s, attributes)}\n",
    "        for g in list(G):\n",
    "            if consistent(g, attributes):\n",
    "                G.remove(g)\n",
    "                g_minus = min_specialization(g, attributes, domains)\n",
    "                G.update([h for h in g_minus if any([consistent(h, s) for s in S])])\n",
    "\n",
    "    print(\"\\n G[{0}]:\".format(k), G)\n",
    "    print(\"\\n S[{0}]:\".format(k), S)\n",
    "            "
   ]
  },
  {
   "cell_type": "code",
   "execution_count": null,
   "metadata": {},
   "outputs": [],
   "source": []
  },
  {
   "cell_type": "code",
   "execution_count": null,
   "metadata": {},
   "outputs": [],
   "source": []
  }
 ],
 "metadata": {
  "kernelspec": {
   "display_name": "Python 3",
   "language": "python",
   "name": "python3"
  },
  "language_info": {
   "codemirror_mode": {
    "name": "ipython",
    "version": 3
   },
   "file_extension": ".py",
   "mimetype": "text/x-python",
   "name": "python",
   "nbconvert_exporter": "python",
   "pygments_lexer": "ipython3",
   "version": "3.7.4"
  }
 },
 "nbformat": 4,
 "nbformat_minor": 2
}
